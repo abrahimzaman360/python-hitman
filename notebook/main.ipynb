{
 "cells": [
  {
   "cell_type": "code",
   "execution_count": null,
   "id": "258fde05",
   "metadata": {},
   "outputs": [
    {
     "name": "stdout",
     "output_type": "stream",
     "text": [
      "namazmiharbi\n"
     ]
    }
   ],
   "source": [
    "# 1: Reverse an string\n",
    "def reverse_str(s: str):\n",
    "    return s[::-1]\n",
    "\n",
    "print(reverse_str('ibrahimzaman'))\n"
   ]
  },
  {
   "cell_type": "code",
   "execution_count": 89,
   "id": "388c44f3",
   "metadata": {},
   "outputs": [
    {
     "name": "stdout",
     "output_type": "stream",
     "text": [
      "True\n",
      "False\n",
      "True\n",
      "False\n"
     ]
    }
   ],
   "source": [
    "# 2: Check for palindrome\n",
    "def check_palindrome(s: str):\n",
    "    return s == s[::-1]\n",
    "\n",
    "print(check_palindrome('racecar'))\n",
    "print(check_palindrome('abc'))\n",
    "\n",
    "\n",
    "# v2: Via loops\n",
    "def check_palindrome_v2(s: str):\n",
    "    rev_str = \"\"\n",
    "    for item in range(len(s) -1, -1, -1):\n",
    "        rev_str += s[item]\n",
    "    return rev_str == s\n",
    "\n",
    "print(check_palindrome_v2('racecar'))\n",
    "print(check_palindrome_v2('abc'))\n"
   ]
  },
  {
   "cell_type": "code",
   "execution_count": 90,
   "id": "c3c296b3",
   "metadata": {},
   "outputs": [
    {
     "name": "stdout",
     "output_type": "stream",
     "text": [
      "9\n"
     ]
    }
   ],
   "source": [
    "# Count Vowels\n",
    "def count_vowels(s: str):\n",
    "    vowels = {'a': 'a', 'e': 'e', 'i': 'i', 'o': 'o', 'u': 'u'}\n",
    "    vowels_count = 0\n",
    "    \n",
    "    for current_char in s:\n",
    "        if current_char in vowels:\n",
    "            vowels_count += 1\n",
    "            \n",
    "    return vowels_count\n",
    "\n",
    "print(count_vowels('afecuimniusaio'))\n"
   ]
  },
  {
   "cell_type": "code",
   "execution_count": null,
   "id": "1fa0f607",
   "metadata": {},
   "outputs": [
    {
     "name": "stdout",
     "output_type": "stream",
     "text": [
      "f\n"
     ]
    }
   ],
   "source": [
    "# First non-repeating characters\n",
    "def non_repeating(s: str):\n",
    "    seen_char = {}\n",
    "    \n",
    "    for item in s:\n",
    "        if item in seen_char:\n",
    "            seen_char[item] += 1\n",
    "        else:\n",
    "            seen_char[item] = 1\n",
    "        \n",
    "    for eachItem in seen_char:\n",
    "        # Return least count char\n",
    "        if seen_char[eachItem] == 1:\n",
    "            return eachItem\n",
    "        \n",
    "    return None\n",
    "        \n",
    "print(non_repeating('aaddeefccee'))\n"
   ]
  },
  {
   "cell_type": "code",
   "execution_count": 78,
   "id": "efb57f83",
   "metadata": {},
   "outputs": [
    {
     "name": "stdout",
     "output_type": "stream",
     "text": [
      "abcda\n"
     ]
    }
   ],
   "source": [
    "# remove consective duplicates:\n",
    "def consective_dups(s: str):\n",
    "    previous_char = s[0]\n",
    "    filtered_chars = previous_char\n",
    "    \n",
    "    for current_char in s[1:]:\n",
    "        if previous_char != current_char:\n",
    "            filtered_chars += current_char\n",
    "        previous_char = current_char\n",
    "            \n",
    "    return filtered_chars\n",
    "print(consective_dups('aaabbccdaa'))\n"
   ]
  },
  {
   "cell_type": "code",
   "execution_count": 91,
   "id": "f14aaa5d",
   "metadata": {},
   "outputs": [
    {
     "name": "stdout",
     "output_type": "stream",
     "text": [
      "Abrahim Zaman A\n"
     ]
    }
   ],
   "source": [
    "# Capitlize First Letter of each Word\n",
    "def capitilize_letter(s: str):\n",
    "    capitilized = ''\n",
    "    \n",
    "    splitted: list[str] = s.split()\n",
    "    \n",
    "    for eachWord in splitted:\n",
    "        capitilized += eachWord[0].upper() + eachWord[1:] + ' '\n",
    "        \n",
    "    return capitilized.strip()\n",
    "    \n",
    "print(capitilize_letter(' abrahim zaman a '))\n"
   ]
  },
  {
   "cell_type": "code",
   "execution_count": 92,
   "id": "92fc4418",
   "metadata": {},
   "outputs": [
    {
     "name": "stdout",
     "output_type": "stream",
     "text": [
      "brhm zmn \n"
     ]
    }
   ],
   "source": [
    "# Remove all vowels\n",
    "def remove_vowels(s: str):\n",
    "    vowels = {'a', 'e', 'i', 'o', 'u'}\n",
    "    filtered_str = ''\n",
    "\n",
    "    for each_char in s:\n",
    "        if each_char in vowels:\n",
    "            continue\n",
    "        else:\n",
    "            filtered_str += each_char\n",
    "        \n",
    "    return filtered_str\n",
    "    \n",
    "print(remove_vowels('abrhaim zaman a'))\n"
   ]
  },
  {
   "cell_type": "code",
   "execution_count": null,
   "id": "6e20d732",
   "metadata": {},
   "outputs": [
    {
     "name": "stdout",
     "output_type": "stream",
     "text": [
      "True\n",
      "False\n"
     ]
    }
   ],
   "source": [
    "# Anagrams\n",
    "def check_anagrams(s: str):\n",
    "    splitted = s.split()\n",
    "    first_word = sorted(splitted[0])\n",
    "\n",
    "    for word in splitted:\n",
    "        if sorted(word) != first_word:\n",
    "            return False\n",
    "    return True\n",
    "            \n",
    "\n",
    "# Testing\n",
    "print(check_anagrams('abrahim miharba'))\n",
    "print(check_anagrams('abrahim skeelton'))\n"
   ]
  },
  {
   "cell_type": "code",
   "execution_count": null,
   "id": "bb1e13a7",
   "metadata": {},
   "outputs": [
    {
     "name": "stdout",
     "output_type": "stream",
     "text": [
      "True\n",
      "False\n"
     ]
    }
   ],
   "source": [
    "# Panagram\n",
    "def check_panagram(s: str):\n",
    "    tracked_chars = set({})\n",
    "    cleaned_str = s.replace(' ', '')\n",
    "    for current_char in cleaned_str:\n",
    "        tracked_chars.add(current_char)\n",
    "\n",
    "    return True if len(tracked_chars) == 26 else False\n",
    "\n",
    "# Testing\n",
    "print(check_panagram('the quick brown fox jumps over a lazy dog'))\n",
    "print(check_panagram('the quick brown fox jumps over a lazy'))\n"
   ]
  },
  {
   "cell_type": "code",
   "execution_count": null,
   "id": "de3f8a85",
   "metadata": {},
   "outputs": [
    {
     "name": "stdout",
     "output_type": "stream",
     "text": [
      "programming\n",
      "abrahimzaman\n"
     ]
    }
   ],
   "source": [
    "# Longest Word in a String\n",
    "def find_longest_word(s: str):\n",
    "    cleaned_str = s.split(' ')\n",
    "    longest = cleaned_str[0]\n",
    "    \n",
    "    for current_word in cleaned_str:\n",
    "        if len(current_word) > len(longest):\n",
    "            longest = current_word\n",
    "            \n",
    "    return longest\n",
    "    \n",
    "\n",
    "# with Max function and key len\n",
    "def find_longest_wordv2(s: str):\n",
    "    cleaned_str = s.split(' ')\n",
    "    longest = max(cleaned_str, key=len)   \n",
    "    \n",
    "    return longest\n",
    "    \n",
    "\n",
    "print(find_longest_word('i am programming with abrahim'))\n",
    "print(find_longest_wordv2('i am programming with abrahimzaman'))\n"
   ]
  },
  {
   "cell_type": "code",
   "execution_count": null,
   "id": "fc85f482",
   "metadata": {},
   "outputs": [
    {
     "name": "stdout",
     "output_type": "stream",
     "text": [
      "True\n"
     ]
    }
   ],
   "source": [
    "# String is Another rotation of String\n",
    "def check_rotation(s: str):\n",
    "    cleaned_str = s.split(' ');\n",
    "    \n",
    "    s1 = cleaned_str[0]\n",
    "    s2 = cleaned_str[1]\n",
    "    \n",
    "    if s2 in s1 + s1:\n",
    "        return True \n",
    "    return False\n",
    "\n",
    "# Testing\n",
    "print(check_rotation('abcde deabc'))\n"
   ]
  },
  {
   "cell_type": "code",
   "execution_count": null,
   "id": "8d308dc2",
   "metadata": {},
   "outputs": [
    {
     "name": "stdout",
     "output_type": "stream",
     "text": [
      "1 8\n",
      "2 7\n",
      "3 6\n",
      "5\n"
     ]
    }
   ],
   "source": [
    "# Two Pointer Example\n",
    "from typing import List\n",
    "\n",
    "\n",
    "def two_pointer(arr: List):\n",
    "    left, right = 0, len(arr) - 1\n",
    "    while left < right:\n",
    "        print(arr[left], arr[right])     \n",
    "        if arr[left] < 5:\n",
    "            left += 1\n",
    "        if arr[right] > 5:\n",
    "            right -= 1\n",
    "        if arr[left] and arr[right] == 5:\n",
    "            return 5       \n",
    "\n",
    "        \n",
    "print(two_pointer([1, 2, 3, 4, 5, 6, 7, 8]))\n"
   ]
  },
  {
   "cell_type": "code",
   "execution_count": 12,
   "id": "57d81845",
   "metadata": {},
   "outputs": [
    {
     "name": "stdout",
     "output_type": "stream",
     "text": [
      "200\n",
      "30\n",
      "0b1010\n"
     ]
    }
   ],
   "source": [
    "# Let's do some basic stuff to make it more powerful\n",
    "# We can do alot of things with python.\n",
    "# Let's see how can we define variables:\n",
    "a = 10\n",
    "b = 20\n",
    "c = a * b\n",
    "\n",
    "print(c)\n",
    "\n",
    "# Let's see multi-line\n",
    "a, b, c = 10, 20, a + b\n",
    "\n",
    "print(c)\n",
    "\n",
    "# That's super amazing btw.\n",
    "# Let's learn more \n",
    "a = 10\n",
    "b =  10.0\n",
    "c = 'c'\n",
    "d = 'ibrahim'\n",
    "e = bin(a)\n",
    "\n",
    "# 1000 in binary means 8\n",
    "# & 1010 means 10 as 10 means 2\n",
    "# 00 -> 01 -> 10 -> 11 -> 100\n",
    "\n",
    "print(e)\n"
   ]
  },
  {
   "cell_type": "code",
   "execution_count": 11,
   "id": "183376a2",
   "metadata": {},
   "outputs": [
    {
     "name": "stdout",
     "output_type": "stream",
     "text": [
      "4\n",
      "2\n"
     ]
    }
   ],
   "source": [
    "def strStr(haystack: str, needle: str):\n",
    "    if needle == \"\":\n",
    "        return 0\n",
    "    \n",
    "    # debugging\n",
    "    print(len(haystack) - len(needle) + 1)\n",
    "    for i in range(len(haystack) - len(needle) + 1):\n",
    "        if haystack[i:i+len(needle)] == needle:\n",
    "            return i\n",
    "\n",
    "    return -1\n",
    "\n",
    "\n",
    "print(strStr(\"hello\", \"ll\"))\n"
   ]
  },
  {
   "cell_type": "code",
   "execution_count": null,
   "id": "7b5a489b",
   "metadata": {},
   "outputs": [
    {
     "name": "stdout",
     "output_type": "stream",
     "text": [
      "[['eat', 'tea', 'ate'], ['tan', 'nat'], ['bat']]\n"
     ]
    }
   ],
   "source": [
    "# Group Anagrams\n",
    "def group_anagrams(items):\n",
    "    if len(items) < 1:\n",
    "        return []\n",
    "    \n",
    "    cache = { }\n",
    "    \n",
    "    \n",
    "    for current_word in items:\n",
    "        group_key = ''.join(sorted(current_word))\n",
    "        \n",
    "        if group_key in cache:\n",
    "            cache[group_key].append(current_word)\n",
    "        else:\n",
    "            cache[group_key] = [current_word]\n",
    "        \n",
    "    return list(cache.values())\n",
    "\n",
    "print(group_anagrams([\"eat\", \"tea\", \"tan\", \"ate\", \"nat\", \"bat\"]))\n"
   ]
  },
  {
   "cell_type": "code",
   "execution_count": null,
   "id": "3c5c6932",
   "metadata": {},
   "outputs": [
    {
     "name": "stdout",
     "output_type": "stream",
     "text": [
      "1\n"
     ]
    }
   ],
   "source": [
    "# Dumping the closest to zero:\n",
    "def find_closest_to_zero(nums):\n",
    "    closest = nums[0]\n",
    "    \n",
    "    for num in nums[1:]:\n",
    "        if abs(num) < abs(closest):\n",
    "            closest = num\n",
    "        elif abs(num) == abs(closest):\n",
    "            closest = max(closest, num)  # pick the larger value in case of tie\n",
    "    \n",
    "    return closest\n",
    "\n",
    "\n",
    "print(find_closest_to_zero([-1, -4, -3, 1, 5, 3, 4]))\n"
   ]
  },
  {
   "cell_type": "code",
   "execution_count": 58,
   "id": "5c5fad8e",
   "metadata": {},
   "outputs": [
    {
     "name": "stdout",
     "output_type": "stream",
     "text": [
      "fp1fq2sr3sf3sf4\n"
     ]
    }
   ],
   "source": [
    "# Merge words\n",
    "from typing import List\n",
    "\n",
    "def merge_words(arr: List[str]) -> str: \n",
    "    muted = ''\n",
    "    \n",
    "    # Challenge: Find the min\n",
    "    previous_min = len(arr[0])\n",
    "    minmum = previous_min\n",
    "    \n",
    "    for eachItem in arr[1:]:\n",
    "        minmum = min(previous_min, len(eachItem))\n",
    "    \n",
    "    \n",
    "    for i in range(minmum):\n",
    "        for x in arr:\n",
    "            muted += x[i]\n",
    "            \n",
    "    # extra:\n",
    "    for eachItem in arr:\n",
    "        muted += eachItem[minmum:]\n",
    "    return muted   \n",
    "\n",
    "\n",
    "print(merge_words([\"ffsss\", \"pqrff\", \"12334\"]))\n"
   ]
  },
  {
   "cell_type": "code",
   "execution_count": 78,
   "id": "3da70c9a",
   "metadata": {},
   "outputs": [
    {
     "name": "stdout",
     "output_type": "stream",
     "text": [
      "flower\n",
      "flower\n",
      "flower\n",
      "flower\n",
      "flower\n",
      "flower\n",
      "flower\n",
      "flower\n",
      "flower\n",
      "flower\n",
      "flower\n",
      "flower\n",
      "flower\n",
      "flower\n",
      "flower\n",
      "flower\n",
      "flower\n",
      "flower\n",
      "here is flower: flo\n"
     ]
    }
   ],
   "source": [
    "# Largest Common Prefix\n",
    "from typing import List \n",
    "\n",
    "def longestCommonPrefix(strs: List[str]) -> str:\n",
    "    # We need to find the longest common prefix;\n",
    "    # Base case:\n",
    "    if len(strs) < 1:\n",
    "        return \"\"\n",
    "    \n",
    "    if len(strs) == 1:\n",
    "        return strs[0]\n",
    "    \n",
    "    # Main thing\n",
    "    cause = {}\n",
    "    common = ''\n",
    "    current_word = 1\n",
    "    \n",
    "    for idx, each_char in enumerate(strs[0]):\n",
    "        cause[each_char] = idx\n",
    "        \n",
    "    while current_word < len(strs):\n",
    "        for each_char in strs[current_word]:\n",
    "            print(f\"{strs[current_word]}\")\n",
    "            if current_word < len(strs) and each_char in cause and cause[each_char] == current_word - 1:\n",
    "                common += each_char\n",
    "        current_word += 1\n",
    "                \n",
    "    return f\"here is flower: {common}\"\n",
    "\n",
    "print(longestCommonPrefix([\"flower\",\"flower\",\"flower\",\"flower\"]))\n"
   ]
  },
  {
   "cell_type": "code",
   "execution_count": 113,
   "id": "3266d465",
   "metadata": {},
   "outputs": [
    {
     "name": "stdout",
     "output_type": "stream",
     "text": [
      "a\n",
      "b\n",
      "c\n"
     ]
    }
   ],
   "source": [
    "cause = {\n",
    "    0: 'a',\n",
    "    1: 'b',\n",
    "    2: 'c'\n",
    "}\n",
    "\n",
    "arr = ['a', 'b', 'c']\n",
    "current = 0\n",
    "\n",
    "while current < len(arr):\n",
    "    print(arr[current])\n",
    "    if current in cause and arr[current] == cause[current]:\n",
    "        pass\n",
    "    current += 1\n"
   ]
  }
 ],
 "metadata": {
  "kernelspec": {
   "display_name": ".venv",
   "language": "python",
   "name": "python3"
  },
  "language_info": {
   "codemirror_mode": {
    "name": "ipython",
    "version": 3
   },
   "file_extension": ".py",
   "mimetype": "text/x-python",
   "name": "python",
   "nbconvert_exporter": "python",
   "pygments_lexer": "ipython3",
   "version": "3.13.3"
  }
 },
 "nbformat": 4,
 "nbformat_minor": 5
}
