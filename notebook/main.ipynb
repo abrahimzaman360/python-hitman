{
 "cells": [
  {
   "cell_type": "code",
   "execution_count": null,
   "id": "258fde05",
   "metadata": {},
   "outputs": [
    {
     "name": "stdout",
     "output_type": "stream",
     "text": [
      "namazmiharbi\n"
     ]
    }
   ],
   "source": [
    "# 1: Reverse an string\n",
    "def reverse_str(s: str):\n",
    "    return s[::-1]\n",
    "\n",
    "print(reverse_str('ibrahimzaman'))\n"
   ]
  },
  {
   "cell_type": "code",
   "execution_count": 18,
   "id": "388c44f3",
   "metadata": {},
   "outputs": [
    {
     "name": "stdout",
     "output_type": "stream",
     "text": [
      "True\n",
      "False\n",
      "True\n",
      "False\n"
     ]
    }
   ],
   "source": [
    "# 2: Check for palindrome\n",
    "def check_palindrome(s: str):\n",
    "    return s == s[::-1]\n",
    "\n",
    "print(check_palindrome('racecar'))\n",
    "print(check_palindrome('abc'))\n",
    "\n",
    "\n",
    "# v2: Via loops\n",
    "def check_palindrome_v2(s: str):\n",
    "    rev_str = \"\"\n",
    "    for item in range(len(s) -1, -1, -1):\n",
    "        rev_str += s[item]\n",
    "        item -= 1\n",
    "    return rev_str == s\n",
    "\n",
    "print(check_palindrome_v2('racecar'))\n",
    "print(check_palindrome_v2('abc'))\n"
   ]
  },
  {
   "cell_type": "code",
   "execution_count": null,
   "id": "c3c296b3",
   "metadata": {},
   "outputs": [
    {
     "name": "stdout",
     "output_type": "stream",
     "text": [
      "8\n"
     ]
    }
   ],
   "source": [
    "# Count Vowels\n",
    "def count_vowels(s: str):\n",
    "    vowels = {'a': 'a', 'e': 'e', 'i': 'i', 'o': 'o', 'u': 'u'}\n",
    "    vowels_count = 0\n",
    "    \n",
    "    for current_char in s:\n",
    "        if current_char in vowels:\n",
    "            vowels_count += 1\n",
    "            \n",
    "    return vowels_count\n",
    "\n",
    "print(count_vowels('afecuimniusai'))\n"
   ]
  },
  {
   "cell_type": "code",
   "execution_count": 58,
   "id": "1fa0f607",
   "metadata": {},
   "outputs": [
    {
     "name": "stdout",
     "output_type": "stream",
     "text": [
      "f\n"
     ]
    }
   ],
   "source": [
    "# First non-repeating characters\n",
    "def non_repeating(s: str):\n",
    "    seen_char = {}\n",
    "    \n",
    "    for item in s:\n",
    "        if item in seen_char:\n",
    "            seen_char[item] += 1\n",
    "        else:\n",
    "            seen_char[item] = 1\n",
    "        \n",
    "    for eachItem in seen_char:\n",
    "        if seen_char[eachItem] == 1:\n",
    "            return eachItem\n",
    "        \n",
    "    return None\n",
    "        \n",
    "print(non_repeating('aaddeefccee'))\n"
   ]
  },
  {
   "cell_type": "code",
   "execution_count": 78,
   "id": "efb57f83",
   "metadata": {},
   "outputs": [
    {
     "name": "stdout",
     "output_type": "stream",
     "text": [
      "abcda\n"
     ]
    }
   ],
   "source": [
    "# remove consective duplicates:\n",
    "def consective_dups(s: str):\n",
    "    previous_char = s[0]\n",
    "    filtered_chars = previous_char\n",
    "    \n",
    "    for current_char in s[1:]:\n",
    "        if previous_char != current_char:\n",
    "            filtered_chars += current_char\n",
    "        previous_char = current_char\n",
    "            \n",
    "    return filtered_chars\n",
    "print(consective_dups('aaabbccdaa'))\n"
   ]
  }
 ],
 "metadata": {
  "kernelspec": {
   "display_name": ".venv",
   "language": "python",
   "name": "python3"
  },
  "language_info": {
   "codemirror_mode": {
    "name": "ipython",
    "version": 3
   },
   "file_extension": ".py",
   "mimetype": "text/x-python",
   "name": "python",
   "nbconvert_exporter": "python",
   "pygments_lexer": "ipython3",
   "version": "3.13.2"
  }
 },
 "nbformat": 4,
 "nbformat_minor": 5
}
